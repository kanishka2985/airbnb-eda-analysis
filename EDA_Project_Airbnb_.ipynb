{
  "nbformat": 4,
  "nbformat_minor": 0,
  "metadata": {
    "colab": {
      "private_outputs": true,
      "provenance": [],
      "collapsed_sections": [
        "vncDsAP0Gaoa",
        "FJNUwmbgGyua",
        "w6K7xa23Elo4",
        "K5QZ13OEpz2H",
        "lQ7QKXXCp7Bj",
        "448CDAPjqfQr",
        "t6dVpIINYklI",
        "ijmpgYnKYklI",
        "-JiQyfWJYklI",
        "fge-S5ZAYoAp",
        "85gYPyotYoAp",
        "RoGjAbkUYoAp",
        "4Of9eVA-YrdM",
        "iky9q4vBYrdO",
        "F6T5p64dYrdO",
        "y-Ehk30pYrdP",
        "bamQiAODYuh1",
        "QHF8YVU7Yuh3",
        "GwzvFGzlYuh3",
        "qYpmQ266Yuh3",
        "OH-pJp9IphqM",
        "bbFf2-_FphqN",
        "_ouA3fa0phqN",
        "Seke61FWphqN",
        "PIIx-8_IphqN",
        "t27r6nlMphqO",
        "r2jJGEOYphqO",
        "b0JNsNcRphqO",
        "BZR9WyysphqO",
        "jj7wYXLtphqO",
        "eZrbJ2SmphqO",
        "rFu4xreNphqO",
        "YJ55k-q6phqO",
        "gCFgpxoyphqP",
        "OVtJsKN_phqQ",
        "lssrdh5qphqQ",
        "U2RJ9gkRphqQ",
        "1M8mcRywphqQ",
        "tgIPom80phqQ",
        "JMzcOPDDphqR",
        "x-EpHcCOp1ci",
        "X_VqEhTip1ck",
        "8zGJKyg5p1ck",
        "PVzmfK_Ep1ck",
        "n3dbpmDWp1ck",
        "ylSl6qgtp1ck",
        "ZWILFDl5p1ck",
        "M7G43BXep1ck",
        "Ag9LCva-p1cl",
        "E6MkPsBcp1cl",
        "2cELzS2fp1cl",
        "3MPXvC8up1cl",
        "NC_X3p0fY2L0",
        "UV0SzAkaZNRQ",
        "YPEH6qLeZNRQ",
        "q29F0dvdveiT",
        "EXh0U9oCveiU",
        "22aHeOlLveiV",
        "gCX9965dhzqZ",
        "gIfDvo9L0UH2"
      ],
      "include_colab_link": true
    },
    "kernelspec": {
      "name": "python3",
      "display_name": "Python 3"
    },
    "language_info": {
      "name": "python"
    }
  },
  "cells": [
    {
      "cell_type": "markdown",
      "metadata": {
        "id": "view-in-github",
        "colab_type": "text"
      },
      "source": [
        "<a href=\"https://colab.research.google.com/github/kanishka2985/airbnb-eda-analysis/blob/main/EDA_Project_Airbnb_.ipynb\" target=\"_parent\"><img src=\"https://colab.research.google.com/assets/colab-badge.svg\" alt=\"Open In Colab\"/></a>"
      ]
    },
    {
      "cell_type": "markdown",
      "source": [
        "# **Project Name**    - Airbnb Data Analysis Project\n",
        "\n"
      ],
      "metadata": {
        "id": "vncDsAP0Gaoa"
      }
    },
    {
      "cell_type": "markdown",
      "source": [
        "##### **Project Type**    - EDA\n",
        "##### **Contribution**    - Individual\n",
        "##### **Team Member**    - Kanishka Sharma\n",
        "\n",
        "\n",
        "\n"
      ],
      "metadata": {
        "id": "beRrZCGUAJYm"
      }
    },
    {
      "cell_type": "markdown",
      "source": [
        "# **Project Summary -**"
      ],
      "metadata": {
        "id": "FJNUwmbgGyua"
      }
    },
    {
      "cell_type": "markdown",
      "source": [
        "**📝 <U>Project Summary: Airbnb Data Analysis**</U>\n",
        "\n",
        "The objective of this project was to perform comprehensive exploratory data analysis (EDA) on a real-world Airbnb dataset to uncover meaningful insights that can help improve host strategy, platform efficiency, and guest experience. By leveraging Python libraries like Pandas, Matplotlib, and Seaborn, we examined trends across prices, availability, reviews, and host behavior. The dataset included listings from various neighborhoods, room types, host activity metrics, and temporal review data.\n",
        "\n",
        "To begin, we cleaned and preprocessed the dataset by handling missing values in columns like reviews_per_month and last_review, and created new features such as price_per_night (derived from price and minimum nights) and review_rate_indicator (a categorization of listings based on their review activity). This enriched dataset allowed for deeper and more interpretable analysis.\n",
        "\n",
        "A central part of the analysis was understanding room type popularity. We generated count plots and average pricing comparisons that revealed that \"Entire home/apartment\" listings dominate in terms of pricing and quantity, followed by \"Private rooms\". However, \"Shared rooms\" and \"Hotel rooms\" were the least common, suggesting limited demand or host willingness to share spaces.\n",
        "\n",
        "We also investigated how neighborhood and location (latitude/longitude) influence listing behavior. By plotting average price and availability by neighborhood group, we observed that central areas (like Manhattan) typically have the highest prices and lowest availability, whereas outer neighborhoods (like the Bronx or Queens) offer more availability at lower prices. A geographic scatter plot using latitude and longitude helped visualize density clusters, highlighting property \"hotspots\".\n",
        "\n",
        "Temporal trends were another major focus. By converting last_review into datetime format and grouping reviews by month and year, we created line plots to explore seasonal engagement. These graphs indicated that reviews spike during mid-year months, likely reflecting summer travel peaks. Additionally, we explored how reviews_per_month varied with room type and location to identify which types of listings maintain consistent customer engagement.\n",
        "\n",
        "Another dimension of the project involved understanding host behavior. We grouped hosts by the number of listings they manage and compared this with their average reviews per month. This led to identifying \"super hosts\" with multiple listings and high engagement.Box plots were used to show the distribution of availability and pricing across different room types and activity indicators, giving insights into how commercial vs. occasional hosts behave.\n",
        "\n",
        "Advanced plots such as pair plots, heatmaps, and correlation matrices were used to identify strong relationships among variables like price, availability, and review activity. For instance, we found that availability_365 is weakly correlated with price, while reviews_per_month has a stronger relationship with the number of reviews and host listing count.\n",
        "\n",
        "To summarize, this project delivered a detailed analytical view of Airbnb listings by breaking down factors that affect price, availability, engagement, and host activity. Visualizations like line plots, heatmaps, scatter plots, bar charts, and violin plots provided an interactive and intuitive understanding of the data. The analysis not only helps hosts optimize listing strategies but also aids Airbnb in understanding market dynamics across different urban zones and times of the year.\n",
        "\n"
      ],
      "metadata": {
        "id": "F6v_1wHtG2nS"
      }
    },
    {
      "cell_type": "markdown",
      "source": [
        "# **GitHub Link -**"
      ],
      "metadata": {
        "id": "w6K7xa23Elo4"
      }
    },
    {
      "cell_type": "markdown",
      "source": [
        "https://github.com/kanishka2985/airbnb-eda-analysis"
      ],
      "metadata": {
        "id": "h1o69JH3Eqqn"
      }
    },
    {
      "cell_type": "markdown",
      "source": [
        "# **Problem Statement**\n"
      ],
      "metadata": {
        "id": "yQaldy8SH6Dl"
      }
    },
    {
      "cell_type": "markdown",
      "source": [
        "**AIRBNB PROBLEM OVERVIEW**\n",
        "\n",
        "Airbnb is a global online marketplace that connects people looking to rent out their homes with those seeking accommodations. With millions of listings worldwide, Airbnb generates a wealth of data related to prices, locations, availability, host activity, and customer reviews. Understanding this data can offer valuable insights into how Airbnb operates at a city level and how guests choose where to stay.\n",
        "\n",
        "This project focuses on analyzing Airbnb listings from a dataset that includes features such as listing price, room type, neighborhood, host information, number of reviews, availability, and more. By using this dataset, we aim to uncover trends that can help both Airbnb hosts and the platform itself make smarter, data-driven decisions.\n",
        "\n",
        "Despite Airbnb’s popularity, hosts often face challenges in pricing their listings competitively and understanding guest behavior. Similarly, travelers are frequently overwhelmed by the number of choices available, and the platform needs to ensure quality, trust, and optimal user experience. This dataset offers a snapshot of Airbnb listings in a particular region, which we will analyze to solve some key business and user challenges."
      ],
      "metadata": {
        "id": "DpeJGUA3kjGy"
      }
    },
    {
      "cell_type": "markdown",
      "source": [
        "#### **Define Your Business Objective?**"
      ],
      "metadata": {
        "id": "PH-0ReGfmX4f"
      }
    },
    {
      "cell_type": "markdown",
      "source": [
        "The main business objective of this project is to analyze Airbnb listing data at the city level to uncover actionable insights that can improve pricing strategies, host performance, and the guest experience on the platform. By studying key features such as price, room type, location, availability, host activity, and user reviews, the project aims to:\n",
        "\n",
        "* Help hosts optimize pricing and listing strategies to attract more\n",
        "guests and increase revenue.\n",
        "\n",
        "* Assist Airbnb as a platform in enhancing recommendation systems, ensuring listing quality, and identifying top-performing neighborhoods and hosts.\n",
        "\n",
        "* Empower travelers by highlighting trends that indicate better value, reliability, and satisfaction across different room types and areas."
      ],
      "metadata": {
        "id": "PhDvGCAqmjP1"
      }
    },
    {
      "cell_type": "markdown",
      "source": [
        "# **General Guidelines** : -  "
      ],
      "metadata": {
        "id": "WG1uqIaTqx8j"
      }
    },
    {
      "cell_type": "markdown",
      "source": [
        "1.   Well-structured, formatted, and commented code is required.\n",
        "2.   Exception Handling, Production Grade Code & Deployment Ready Code will be a plus. Those students will be awarded some additional credits.\n",
        "     \n",
        "     The additional credits will have advantages over other students during Star Student selection.\n",
        "       \n",
        "             [ Note: - Deployment Ready Code is defined as, the whole .ipynb notebook should be executable in one go\n",
        "                       without a single error logged. ]\n",
        "\n",
        "3.   Each and every logic should have proper comments.\n",
        "4. You may add as many number of charts you want. Make Sure for each and every chart the following format should be answered.\n",
        "        \n",
        "\n",
        "```\n",
        "# Chart visualization code\n",
        "```\n",
        "            \n",
        "\n",
        "*   Why did you pick the specific chart?\n",
        "*   What is/are the insight(s) found from the chart?\n",
        "* Will the gained insights help creating a positive business impact?\n",
        "Are there any insights that lead to negative growth? Justify with specific reason.\n",
        "\n",
        "5. You have to create at least 20 logical & meaningful charts having important insights.\n",
        "\n",
        "\n",
        "[ Hints : - Do the Vizualization in  a structured way while following \"UBM\" Rule.\n",
        "\n",
        "U - Univariate Analysis,\n",
        "\n",
        "B - Bivariate Analysis (Numerical - Categorical, Numerical - Numerical, Categorical - Categorical)\n",
        "\n",
        "M - Multivariate Analysis\n",
        " ]\n",
        "\n",
        "\n",
        "\n"
      ],
      "metadata": {
        "id": "C2VKAbdzq-r0"
      }
    },
    {
      "cell_type": "markdown",
      "source": [
        "# ***Let's Begin !***"
      ],
      "metadata": {
        "id": "O_i_v8NEhb9l"
      }
    },
    {
      "cell_type": "markdown",
      "source": [
        "## ***1. Know Your Data***"
      ],
      "metadata": {
        "id": "HhfV-JJviCcP"
      }
    },
    {
      "cell_type": "markdown",
      "source": [
        "### Import Libraries"
      ],
      "metadata": {
        "id": "Y3lxredqlCYt"
      }
    },
    {
      "cell_type": "code",
      "source": [
        "# Import Libraries\n",
        "import pandas as pd\n",
        "import numpy as np\n",
        "import matplotlib.pyplot as plt\n",
        "import seaborn as sns"
      ],
      "metadata": {
        "id": "M8Vqi-pPk-HR"
      },
      "execution_count": null,
      "outputs": []
    },
    {
      "cell_type": "markdown",
      "source": [
        "### Dataset Loading"
      ],
      "metadata": {
        "id": "3RnN4peoiCZX"
      }
    },
    {
      "cell_type": "code",
      "source": [
        "from google.colab import drive\n",
        "drive.mount('/content/drive')"
      ],
      "metadata": {
        "id": "dLqtQM5BF7F_"
      },
      "execution_count": null,
      "outputs": []
    },
    {
      "cell_type": "code",
      "source": [
        "# Load Dataset\n",
        "path='/content/drive/MyDrive/Colab Notebooks/Airbnb dataset/Copy of Copy of Airbnb NYC 2019.csv'\n",
        "df=pd.read_csv(path)"
      ],
      "metadata": {
        "id": "4CkvbW_SlZ_R"
      },
      "execution_count": null,
      "outputs": []
    },
    {
      "cell_type": "markdown",
      "source": [
        "### Dataset First View"
      ],
      "metadata": {
        "id": "x71ZqKXriCWQ"
      }
    },
    {
      "cell_type": "code",
      "source": [
        "# Dataset First Look\n",
        "df.head()"
      ],
      "metadata": {
        "id": "LWNFOSvLl09H"
      },
      "execution_count": null,
      "outputs": []
    },
    {
      "cell_type": "markdown",
      "source": [
        "### Dataset Rows & Columns count"
      ],
      "metadata": {
        "id": "7hBIi_osiCS2"
      }
    },
    {
      "cell_type": "code",
      "source": [
        "# Dataset Rows & Columns count\n",
        "df.shape"
      ],
      "metadata": {
        "id": "Kllu7SJgmLij"
      },
      "execution_count": null,
      "outputs": []
    },
    {
      "cell_type": "markdown",
      "source": [
        "### Dataset Information"
      ],
      "metadata": {
        "id": "JlHwYmJAmNHm"
      }
    },
    {
      "cell_type": "code",
      "source": [
        "# Dataset Info\n",
        "df.info()"
      ],
      "metadata": {
        "id": "e9hRXRi6meOf"
      },
      "execution_count": null,
      "outputs": []
    },
    {
      "cell_type": "markdown",
      "source": [
        "#### Duplicate Values"
      ],
      "metadata": {
        "id": "35m5QtbWiB9F"
      }
    },
    {
      "cell_type": "code",
      "source": [
        "# Dataset Duplicate Value Count\n",
        "len(df[df.duplicated()])"
      ],
      "metadata": {
        "id": "1sLdpKYkmox0"
      },
      "execution_count": null,
      "outputs": []
    },
    {
      "cell_type": "markdown",
      "source": [
        "#### Missing Values/Null Values"
      ],
      "metadata": {
        "id": "PoPl-ycgm1ru"
      }
    },
    {
      "cell_type": "code",
      "source": [
        "# Missing Values/Null Values Count\n",
        "print(df.isnull().sum())"
      ],
      "metadata": {
        "id": "GgHWkxvamxVg"
      },
      "execution_count": null,
      "outputs": []
    },
    {
      "cell_type": "code",
      "source": [
        "# Visualizing the missing values\n",
        "sns.heatmap(df.isnull(),cbar=False)"
      ],
      "metadata": {
        "id": "3q5wnI3om9sJ"
      },
      "execution_count": null,
      "outputs": []
    },
    {
      "cell_type": "markdown",
      "source": [
        "### What did you know about your dataset?"
      ],
      "metadata": {
        "id": "H0kj-8xxnORC"
      }
    },
    {
      "cell_type": "markdown",
      "source": [
        "1. **🔢<u>Basic Info:-</u>**\n",
        "\n",
        "* The dataset contains 48,895 rows and 16 columns.\n",
        "\n",
        "* It includes details about listings, hosts, location, pricing, and review activity.\n",
        "\n",
        "2. **🔍 <u>Missing Values</u>**\n",
        "\n",
        "* `name`: 16 missing → few listings without titles.\n",
        "\n",
        "* `host_name`: 21 missing → some hosts haven't added names.\n",
        "\n",
        "* `last_review`: 10,052 missing → listings have never been reviewed.\n",
        "\n",
        "* `reviews_per_month`: 10,052 missing → same listings with no reviews.\n",
        "\n",
        "* Other columns have no missing values.\n",
        "\n",
        "3. **🧠<u> Column Types</u>**\n",
        "\n",
        "* Numerical (`int64`, `float64`): price, minimum_nights, number_of_reviews, availability, etc.\n",
        "\n",
        "* Categorical/Text (`object`): name, host_name, neighbourhood, room_type, etc.\n",
        "\n",
        "* `last_review` is text but can be converted to datetime.\n",
        "\n",
        "4. **🗺️<u> Geographic Info</u>**\n",
        "\n",
        "* `latitude` and `longitude` are complete for all listings.\n",
        "\n",
        "* Useful for creating location maps or hotspot plots.\n",
        "\n",
        "5. **💡<u> Key Observations</u>**\n",
        "\n",
        "* Around 20% of listings have never been reviewed.\n",
        "\n",
        "* Core metrics like price, availability_365, and room_type are fully available.\n",
        "\n",
        "* The data is suitable for visual analysis, feature engineering, and ML modeling.\n"
      ],
      "metadata": {
        "id": "gfoNAAC-nUe_"
      }
    },
    {
      "cell_type": "markdown",
      "source": [
        "## ***2. Understanding Your Variables***"
      ],
      "metadata": {
        "id": "nA9Y7ga8ng1Z"
      }
    },
    {
      "cell_type": "code",
      "source": [
        "# Dataset Columns\n",
        "df.columns"
      ],
      "metadata": {
        "id": "j7xfkqrt5Ag5"
      },
      "execution_count": null,
      "outputs": []
    },
    {
      "cell_type": "code",
      "source": [
        "# Dataset Describe\n",
        "df.describe()"
      ],
      "metadata": {
        "id": "DnOaZdaE5Q5t"
      },
      "execution_count": null,
      "outputs": []
    },
    {
      "cell_type": "markdown",
      "source": [
        "### Variables Description"
      ],
      "metadata": {
        "id": "PBTbrJXOngz2"
      }
    },
    {
      "cell_type": "markdown",
      "source": [
        "| **Column Name**                  | **Description**                                                              |\n",
        "| -------------------------------- | ---------------------------------------------------------------------------- |\n",
        "| `id`                             | Unique identifier for each listing on the Airbnb platform.                   |\n",
        "| `name`                           | Title or name of the listing (e.g., \"Cozy Apartment in Brooklyn\").           |\n",
        "| `host_id`                        | Unique ID assigned to each host on the platform.                             |\n",
        "| `host_name`                      | Name of the host managing the listing.                                       |\n",
        "| `neighbourhood_group`            | Broad geographic area or borough (e.g., Manhattan, Brooklyn, Queens).        |\n",
        "| `neighbourhood`                  | More specific area within the neighbourhood group (e.g., Harlem, Bushwick).  |\n",
        "| `latitude`                       | Geographic coordinate indicating the latitude of the listing.                |\n",
        "| `longitude`                      | Geographic coordinate indicating the longitude of the listing.               |\n",
        "| `room_type`                      | Type of room offered: \"Entire home/apt\", \"Private room\", \"Shared room\", etc. |\n",
        "| `price`                          | Price per booking (often per night, but not always clear).            |\n",
        "| `minimum_nights`                 | Minimum number of nights required to book the listing.                       |\n",
        "| `number_of_reviews`              | Total number of reviews received for the listing.                            |\n",
        "| `last_review`                    | Date of the most recent review received.                                     |\n",
        "| `reviews_per_month`              | Average number of reviews per month.                                         |\n",
        "| `calculated_host_listings_count` | Number of listings the host has on Airbnb.                                   |\n",
        "| `availability_365`               | Number of days the listing is available for booking in a year (0–365).       |\n"
      ],
      "metadata": {
        "id": "aJV4KIxSnxay"
      }
    },
    {
      "cell_type": "markdown",
      "source": [
        "### Check Unique Values for each variable."
      ],
      "metadata": {
        "id": "u3PMJOP6ngxN"
      }
    },
    {
      "cell_type": "code",
      "source": [
        "# Check Unique Values for each variable.\n",
        "for i in df.columns.tolist():\n",
        "  print(\"No. of unique values in \",i,\"is\",df[i].nunique(),\".\")"
      ],
      "metadata": {
        "id": "zms12Yq5n-jE"
      },
      "execution_count": null,
      "outputs": []
    },
    {
      "cell_type": "markdown",
      "source": [
        "## 3. ***Data Wrangling***"
      ],
      "metadata": {
        "id": "dauF4eBmngu3"
      }
    },
    {
      "cell_type": "markdown",
      "source": [
        "### Data Wrangling Code"
      ],
      "metadata": {
        "id": "bKJF3rekwFvQ"
      }
    },
    {
      "cell_type": "code",
      "source": [
        "df = df.copy()\n",
        "df.head()"
      ],
      "metadata": {
        "id": "QYtl6RokfE2Q"
      },
      "execution_count": null,
      "outputs": []
    },
    {
      "cell_type": "code",
      "source": [
        "# Write your code to make your dataset analysis ready."
      ],
      "metadata": {
        "id": "wk-9a2fpoLcV"
      },
      "execution_count": null,
      "outputs": []
    },
    {
      "cell_type": "code",
      "source": [
        "df['last_review'] = pd.to_datetime(df['last_review'])"
      ],
      "metadata": {
        "id": "7CLOcs_QhexA"
      },
      "execution_count": null,
      "outputs": []
    },
    {
      "cell_type": "code",
      "source": [
        "#Handling the missing values\n",
        "df = df[df['last_review'].notnull()]\n",
        "df = df[df['reviews_per_month'].notnull()]\n",
        "df['name'] = df['name'].fillna('not present')\n",
        "df['host_name'] = df['host_name'].fillna('not present')"
      ],
      "metadata": {
        "id": "x3rPCDlBgpgf"
      },
      "execution_count": null,
      "outputs": []
    },
    {
      "cell_type": "code",
      "source": [
        "#Review Rate Indicator\n",
        "def review_rate_indicator(x):\n",
        "  if x >= 2.0:\n",
        "    return 'Highly Active'\n",
        "  elif x >= 1.0:\n",
        "    return 'Moderately Active'\n",
        "  elif x > 0:\n",
        "    return 'Low Activity'\n",
        "  else:\n",
        "    return 'Inactive'\n",
        "df['review_rate_indicator']=df['reviews_per_month'].apply(review_rate_indicator)\n",
        "df.head()"
      ],
      "metadata": {
        "id": "6ONTOpx0h6Nd"
      },
      "execution_count": null,
      "outputs": []
    },
    {
      "cell_type": "code",
      "source": [
        "#Price Per Night Ratio\n",
        "df['price_per_night_ratio']=df['price']/df['minimum_nights']\n",
        "df.head()"
      ],
      "metadata": {
        "id": "CYRQj5zai3Xv"
      },
      "execution_count": null,
      "outputs": []
    },
    {
      "cell_type": "code",
      "source": [
        "#Remove the lsiting with availabilty>365\n",
        "df = df[df['minimum_nights'] <= 365]"
      ],
      "metadata": {
        "id": "X9g1RiaUNszM"
      },
      "execution_count": null,
      "outputs": []
    },
    {
      "cell_type": "code",
      "source": [
        "#Ensuring that latitute and logitude are within NYC bounds\n",
        "df = df[(df['latitude'].between(40.5, 41.0)) & (df['longitude'].between(-74.5, -73.5))]\n",
        "df.head()"
      ],
      "metadata": {
        "id": "AgzHb9PJPLHi"
      },
      "execution_count": null,
      "outputs": []
    },
    {
      "cell_type": "code",
      "source": [
        "#Gives average prices for each neighbourhood group\n",
        "df.groupby('neighbourhood_group')['price'].mean()"
      ],
      "metadata": {
        "id": "JJptK3FJg7EK"
      },
      "execution_count": null,
      "outputs": []
    },
    {
      "cell_type": "code",
      "source": [
        "#Gives the latitude and longitude of each of the neighbourhood\n",
        "dist=df.groupby('neighbourhood')[['latitude', 'longitude']].mean()\n",
        "dist"
      ],
      "metadata": {
        "id": "uJH1F38PhT1E"
      },
      "execution_count": null,
      "outputs": []
    },
    {
      "cell_type": "code",
      "source": [
        "#Get name and price of listing(s) with the highest price\n",
        "max_price = df[df['price'] == df['price'].max()][['name', 'price']]\n",
        "print('The hotels with the highest price:')\n",
        "print(max_price)"
      ],
      "metadata": {
        "id": "ayq9NELMehsc"
      },
      "execution_count": null,
      "outputs": []
    },
    {
      "cell_type": "code",
      "source": [
        "#Remove the hotel names with price 0\n",
        "df = df[df['price'] > 0]\n",
        "#Get name and price of listing(s) with the lowest price\n",
        "min_price = df[df['price'] == df['price'].min()][['name', 'price']]\n",
        "print('The hotels with the lowest price:')\n",
        "print(min_price)"
      ],
      "metadata": {
        "id": "LNhcIA-ZgkZa"
      },
      "execution_count": null,
      "outputs": []
    },
    {
      "cell_type": "code",
      "source": [
        "#Get the mean of the price\n",
        "mean_price = df['price'].mean()\n",
        "print(\"The mean price is :-\",mean_price)\n",
        "#Get the mode of the price\n",
        "mode_price = df['price'].mode()\n",
        "print(\"The most common price is :-\",mode_price.iloc[0])\n",
        "#Get the median of the price\n",
        "median_price = df['price'].median()\n",
        "print(\"The median price is :-\", median_price)"
      ],
      "metadata": {
        "id": "3n3PYJIbhIqR"
      },
      "execution_count": null,
      "outputs": []
    },
    {
      "cell_type": "code",
      "source": [
        "#Total number of unique host\n",
        "unique_hosts = df['host_id'].nunique()\n",
        "print(\"The total number of unique hosts are:\", unique_hosts)"
      ],
      "metadata": {
        "id": "24RPlVNvkFsJ"
      },
      "execution_count": null,
      "outputs": []
    },
    {
      "cell_type": "code",
      "source": [
        "#total number listings\n",
        "total_listings = len(df)\n",
        "print(\"Total number of listings:\", total_listings)"
      ],
      "metadata": {
        "id": "iso7k_dVk-IP"
      },
      "execution_count": null,
      "outputs": []
    },
    {
      "cell_type": "code",
      "source": [
        "#Hotels with thr maximum availability\n",
        "max_avail= df[df['availability_365'] == df['availability_365'].max()][['name', 'price','availability_365']]\n",
        "print('The hotels with the maximum availability:')\n",
        "max_avail.head()"
      ],
      "metadata": {
        "id": "cxFKYZVOimcI"
      },
      "execution_count": null,
      "outputs": []
    },
    {
      "cell_type": "code",
      "source": [
        "#Hotels with the minimum availability\n",
        "min_avail= df[df['availability_365'] == df['availability_365'].min()][['name', 'price','availability_365']]\n",
        "print('The hotels with the minimum availability:')\n",
        "min_avail.head()"
      ],
      "metadata": {
        "id": "Puit0UbvjITE"
      },
      "execution_count": null,
      "outputs": []
    },
    {
      "cell_type": "markdown",
      "source": [
        "### What all manipulations have you done and insights you found?"
      ],
      "metadata": {
        "id": "MSa1f5Uengrz"
      }
    },
    {
      "cell_type": "markdown",
      "source": [
        "**✅DATA WRANGLING / CLEANING**\n",
        "\n",
        "1. <u>Date Parsing</u>-Converted 'last_review' to datetime using pd.to_datetime().\n",
        "\n",
        "2. <u>Missing Value Handling</u>-\n",
        "* Dropped rows where last_review and reviews_per_month were null.\n",
        "* Filled missing name and host_name with 'not present'.\n",
        "\n",
        "3. <u>Price Cleaning</u>-Removed listings with price = 0 (which are unrealistic or incorrect).\n",
        "\n",
        "4. <u>Outlier Removal</u>-\n",
        "* Removed listings with minimum_nights > 365 (likely data errors).\n",
        "* Filtered out listings outside NYC bounds (latitude, longitude constraints).\n",
        "\n",
        "\n",
        "**✅FEATURE ENGINEERING**\n",
        "\n",
        "1. <u>price_per_night_ratio</u>\n",
        "\n",
        "* Created by dividing price / minimum_nights.\n",
        "\n",
        "2. <u>review_rate_indicator</u>\n",
        "\n",
        "* Applied custom function to classify listings:\n",
        "\n",
        "* greater than equal to 2 → Highly Active\n",
        "\n",
        "* greater than equal to 1 → Moderately Active\n",
        "\n",
        "* greater than 0 → Low Activity\n",
        "\n",
        "*  equals to 0 → Inactive\n",
        "\n",
        "**✅ EXPLORATORY DATA ANALYSIS (EDA)**\n",
        "\n",
        "1. <u>Descriptive Statistics</u>\n",
        "* Mean Price: 142.36 approx.\n",
        "\n",
        "* Most common Pricing(mode): 100\n",
        "\n",
        "* Median Price:106.0\n",
        "\n",
        "* Total Listings: 38,827\n",
        "\n",
        "* Unique Hosts: 30,245\n",
        "→ Indicates some hosts have multiple properties.\n",
        "\n",
        "2. <u>Extreme Price Listings</u>\n",
        "* Highest Price: 10,000,\n",
        "Listings like “Luxury 1 bedroom apt…” and “Furnished room in Astoria”.\n",
        "\n",
        "* Lowest Valid Price (after cleaning): 10,\n",
        "Examples: “Girls only cozy room…”, “Very Spacious Bedroom…”, etc.\n",
        "\n",
        "3. <u>Availability</u>\n",
        "* Listings with availability_365 = 0 are inactive or blocked for bookings.\n",
        "Example listings with 0 availability were identified.\n",
        "\n",
        "4. <u>Location Insights</u>\n",
        "* Average Price per Neighbourhood Group:\n",
        "\n",
        "* Manhattan: 196.88 (most expensive)\n",
        "\n",
        "* Bronx: 87.50 (cheapest)\n",
        "\n",
        "* Neighborhood Coordinates:\n",
        "Grouped by neighbourhood to find average latitude and longitude for mapping.\n",
        "\n"
      ],
      "metadata": {
        "id": "LbyXE7I1olp8"
      }
    },
    {
      "cell_type": "markdown",
      "source": [
        "## ***4. Data Vizualization, Storytelling & Experimenting with charts : Understand the relationships between variables***"
      ],
      "metadata": {
        "id": "GF8Ens_Soomf"
      }
    },
    {
      "cell_type": "markdown",
      "source": [
        "#### Chart - 1"
      ],
      "metadata": {
        "id": "0wOQAZs5pc--"
      }
    },
    {
      "cell_type": "code",
      "source": [
        "# Chart - 1 visualization code\n",
        "#Room Popularity Graph\n",
        "sns.countplot(data=df, x='room_type', hue='room_type', palette='Set2', legend=False)\n",
        "plt.title('Room Type Popularity')\n",
        "plt.xlabel('Room Type')\n",
        "plt.ylabel('Number of Listings')\n",
        "plt.show()"
      ],
      "metadata": {
        "id": "7v_ESjsspbW7"
      },
      "execution_count": null,
      "outputs": []
    },
    {
      "cell_type": "markdown",
      "source": [
        "##### 1. Why did you pick the specific chart?"
      ],
      "metadata": {
        "id": "K5QZ13OEpz2H"
      }
    },
    {
      "cell_type": "markdown",
      "source": [
        "the **countplot chart** is selected as:\n",
        "\n",
        "* room_type is a categorical variable.\n",
        "\n",
        "* Count plot shows the frequency of each category.\n",
        "\n",
        "* It’s ideal for comparing number of listings across room types.\n",
        "\n",
        "* Automatically counts and displays data using Seaborn.\n",
        "\n",
        "* Easy to read and interpret visually"
      ],
      "metadata": {
        "id": "XESiWehPqBRc"
      }
    },
    {
      "cell_type": "markdown",
      "source": [
        "##### 2. What is/are the insight(s) found from the chart?"
      ],
      "metadata": {
        "id": "lQ7QKXXCp7Bj"
      }
    },
    {
      "cell_type": "markdown",
      "source": [
        "Insights from the Room Type Popularity Chart:\n",
        "\n",
        "* **Entire home/apt** is the **most popular** room type, with the highest number of listings.\n",
        "* **Private rooms** are the **second most common**, showing strong demand or availability.\n",
        "* **Shared rooms** are **rare**, indicating **low popularity or supply**.\n",
        "* Users or hosts may **prefer more privacy**, as seen from the high count of entire homes and private rooms.\n",
        "* Airbnb listings are likely geared more toward **individual travelers or small groups** rather than large/shared accommodations.\n"
      ],
      "metadata": {
        "id": "C_j1G7yiqdRP"
      }
    },
    {
      "cell_type": "markdown",
      "source": [
        "##### 3. Will the gained insights help creating a positive business impact?\n",
        "Are there any insights that lead to negative growth? Justify with specific reason."
      ],
      "metadata": {
        "id": "448CDAPjqfQr"
      }
    },
    {
      "cell_type": "markdown",
      "source": [
        "**<u>Positive Business Impact:</u>**\n",
        "\n",
        "* Yes, the insights can drive positive business decisions, such as:\n",
        "\n",
        "* Focusing inventory on \"Entire home/apt\" and \"Private room\" categories, which are in higher demand.\n",
        "\n",
        "* Targeting marketing campaigns toward these preferred room types to maximize ROI.\n",
        "\n",
        "* Improving amenities or pricing strategies for these popular types to further increase bookings.\n",
        "\n",
        "**<u>Potential Negative Growth Insight:</u>**\n",
        "\n",
        "* The low popularity of “Shared room” listings might indicate either a lack of demand or poor user experience. If the company continues to invest in shared room inventory without addressing customer concerns (privacy, safety, etc.), it could result in low returns and resource misallocation.\n",
        "\n",
        "**Justification:** Maintaining underperforming listings increases overhead without much benefit, and may even damage the brand’s perception if customers associate it with low-quality options.\n",
        "\n"
      ],
      "metadata": {
        "id": "3cspy4FjqxJW"
      }
    },
    {
      "cell_type": "markdown",
      "source": [
        "#### Chart - 2"
      ],
      "metadata": {
        "id": "KSlN3yHqYklG"
      }
    },
    {
      "cell_type": "code",
      "source": [
        "# Chart - 2 visualization code\n",
        "#Average price of neighbourhood group\n",
        "neighbourhood = df.groupby('neighbourhood_group')['price'].mean()\n",
        "\n",
        "# Plot as a pie chart\n",
        "plt.figure(figsize=(9,3))\n",
        "neighbourhood.plot(\n",
        "    kind='pie',\n",
        "    autopct='%1.1f%%',\n",
        "    colors=sns.color_palette('Set2'),\n",
        "    ylabel=''  # remove default label\n",
        ")\n",
        "plt.title('Neighbourhood Group Vs Average Price')\n",
        "plt.tight_layout()\n",
        "plt.show()\n"
      ],
      "metadata": {
        "id": "R4YgtaqtYklH"
      },
      "execution_count": null,
      "outputs": []
    },
    {
      "cell_type": "markdown",
      "source": [
        "##### 1. Why did you pick the specific chart?"
      ],
      "metadata": {
        "id": "t6dVpIINYklI"
      }
    },
    {
      "cell_type": "markdown",
      "source": [
        "A **pie chart** was chosen because it effectively displays the proportional contribution of each neighbourhood group to the overall average price. It provides a clear visual breakdown of how pricing differs by region, which is helpful when analyzing relative value across categories. It’s especially useful when dealing with percentage distributions and categorical data.\n",
        "\n"
      ],
      "metadata": {
        "id": "5aaW0BYyYklI"
      }
    },
    {
      "cell_type": "markdown",
      "source": [
        "##### 2. What is/are the insight(s) found from the chart?"
      ],
      "metadata": {
        "id": "ijmpgYnKYklI"
      }
    },
    {
      "cell_type": "markdown",
      "source": [
        "Key insights from the pie chart:\n",
        "\n",
        "* Manhattan has the highest average price, contributing 31.8% of the total.\n",
        "\n",
        "* Brooklyn follows at 21.4%, indicating it’s also a relatively expensive area.\n",
        "\n",
        "* Bronx and Staten Island have the lowest average prices, at 14.0% and 15.9% respectively.\n",
        "\n",
        "* Queens sits in the mid-range at 16.9%.\n",
        "\n",
        "These insights suggest how pricing varies significantly by location."
      ],
      "metadata": {
        "id": "PSx9atu2YklI"
      }
    },
    {
      "cell_type": "markdown",
      "source": [
        "##### 3. Will the gained insights help creating a positive business impact?\n",
        "Are there any insights that lead to negative growth? Justify with specific reason."
      ],
      "metadata": {
        "id": "-JiQyfWJYklI"
      }
    },
    {
      "cell_type": "markdown",
      "source": [
        "**<u>Positive Business Impact:</u>**\n",
        "\n",
        "* Yes, these insights can support several strategic decisions:\n",
        "\n",
        "* Target premium listings in Manhattan and Brooklyn to maximize revenue, as they command higher average prices.\n",
        "\n",
        "* Design pricing strategies that reflect each neighborhood's demand and value proposition.\n",
        "\n",
        "* Promote affordable options in Bronx or Staten Island to attract budget-conscious travelers, enabling broader market reach.\n",
        "\n",
        "**<u>Potential Negative Growth Insight:</u>**\n",
        "\n",
        "* If too much investment is made in high-price areas like Manhattan, it could limit accessibility for price-sensitive customers, possibly reducing booking volume.\n",
        "\n",
        "* Neglecting lower-cost areas like Bronx or Staten Island might mean missing out on untapped market segments or local travelers seeking affordability.\n",
        "\n",
        "**Justification:** A narrow focus on high-value neighborhoods could alienate budget travelers, affecting overall booking diversity and growth potential.\n",
        "\n"
      ],
      "metadata": {
        "id": "BcBbebzrYklV"
      }
    },
    {
      "cell_type": "markdown",
      "source": [
        "#### Chart - 3"
      ],
      "metadata": {
        "id": "EM7whBJCYoAo"
      }
    },
    {
      "cell_type": "code",
      "source": [
        "# Chart - 3 visualization code\n",
        "#Graph to find which month has more number of reviews\n",
        "df['review_month'] = df['last_review'].dt.month\n",
        "monthly_reviews = df['review_month'].value_counts().sort_index()\n",
        "# Count reviews per month\n",
        "plt.figure(figsize=(9,4))\n",
        "sns.lineplot(x=monthly_reviews.index, y=monthly_reviews.values, palette='Set2')\n",
        "plt.title('Monthly Engagement (Based on Last Review Dates)')\n",
        "plt.xlabel('Month')\n",
        "plt.ylabel('Number of Reviews')\n",
        "plt.grid(axis='y')\n",
        "plt.tight_layout()\n",
        "plt.show()"
      ],
      "metadata": {
        "id": "t6GMdE67YoAp"
      },
      "execution_count": null,
      "outputs": []
    },
    {
      "cell_type": "markdown",
      "source": [
        "##### 1. Why did you pick the specific chart?"
      ],
      "metadata": {
        "id": "fge-S5ZAYoAp"
      }
    },
    {
      "cell_type": "markdown",
      "source": [
        "A **line plot** was selected because it effectively visualizes trends over time, in this case, user engagement across months based on the number of reviews. It helps identify seasonal patterns, peaks, and drops in engagement, which are essential for business planning and forecasting.\n",
        "\n"
      ],
      "metadata": {
        "id": "5dBItgRVYoAp"
      }
    },
    {
      "cell_type": "markdown",
      "source": [
        "##### 2. What is/are the insight(s) found from the chart?"
      ],
      "metadata": {
        "id": "85gYPyotYoAp"
      }
    },
    {
      "cell_type": "markdown",
      "source": [
        "Key insights from the chart:\n",
        "\n",
        "* Engagement peaks sharply in June (Month 6) with the highest number of reviews (~14,000), suggesting it’s a high-activity season.\n",
        "\n",
        "* There is a gradual increase in engagement from March to May, followed by a steep decline from July onwards.\n",
        "\n",
        "* The lowest engagement is observed in February (Month 2) and again in the last quarter (October to December).\n",
        "\n",
        "This suggests a strong seasonal pattern, with summer seeing significantly more activity."
      ],
      "metadata": {
        "id": "4jstXR6OYoAp"
      }
    },
    {
      "cell_type": "markdown",
      "source": [
        "##### 3. Will the gained insights help creating a positive business impact?\n",
        "Are there any insights that lead to negative growth? Justify with specific reason."
      ],
      "metadata": {
        "id": "RoGjAbkUYoAp"
      }
    },
    {
      "cell_type": "markdown",
      "source": [
        "**<u>Positive Business Impact:</u>**\n",
        "\n",
        "* Yes, these insights are highly valuable for:\n",
        "\n",
        "* Strategic marketing: Focus campaigns in Q2 and early Q3 (April–June) to capture the peak engagement window.\n",
        "\n",
        "* Resource planning: Increase staffing, inventory, or listings during high-engagement months.\n",
        "\n",
        "* Promotions during slow months (like February and November) to stimulate demand and avoid flat sales.\n",
        "\n",
        "**<u>Potential Negative Growth Insight:</u>**\n",
        "\n",
        "* The sharp drop after June indicates seasonal disengagement. If unaddressed, this off-peak inactivity can lead to revenue dips and underutilized assets.\n",
        "\n",
        "**Justification:** Without proactive measures in off-season months, hosts and platforms could suffer decreased occupancy, impacting profitability and long-term sustainability.\n",
        "\n"
      ],
      "metadata": {
        "id": "zfJ8IqMcYoAp"
      }
    },
    {
      "cell_type": "markdown",
      "source": [
        "#### Chart - 4"
      ],
      "metadata": {
        "id": "4Of9eVA-YrdM"
      }
    },
    {
      "cell_type": "code",
      "source": [
        "# Chart - 4 visualization code\n",
        "#Geographical Distribution of listings\n",
        "plt.figure(figsize=(9,4))\n",
        "sns.scatterplot(\n",
        "    data=df,\n",
        "    x='latitude',\n",
        "    y='longitude',\n",
        "    hue='neighbourhood_group',\n",
        "    palette='Set1',\n",
        "    alpha=0.5\n",
        ")\n",
        "plt.title('Geographical Distribution of listings')\n",
        "plt.xlabel('Latitude')\n",
        "plt.ylabel('Longitude')\n",
        "plt.grid(True)\n",
        "plt.show()"
      ],
      "metadata": {
        "id": "irlUoxc8YrdO"
      },
      "execution_count": null,
      "outputs": []
    },
    {
      "cell_type": "markdown",
      "source": [
        "##### 1. Why did you pick the specific chart?"
      ],
      "metadata": {
        "id": "iky9q4vBYrdO"
      }
    },
    {
      "cell_type": "markdown",
      "source": [
        "A **scatter plot** is ideal for visualizing spatial data. This chart effectively shows how Airbnb listings are distributed across different neighbourhood groups based on their latitude and longitude. It allows for a clear view of geographic clustering and regional density patterns, which are not easily captured in bar or pie charts.\n",
        "\n"
      ],
      "metadata": {
        "id": "aJRCwT6DYrdO"
      }
    },
    {
      "cell_type": "markdown",
      "source": [
        "##### 2. What is/are the insight(s) found from the chart?"
      ],
      "metadata": {
        "id": "F6T5p64dYrdO"
      }
    },
    {
      "cell_type": "markdown",
      "source": [
        "Key insights from the chart:\n",
        "\n",
        "* Manhattan and Brooklyn have dense clusters of listings, indicating high activity and popularity in these regions.\n",
        "\n",
        "* Queens also has a broad geographical spread of listings, though slightly less dense.\n",
        "\n",
        "* Staten Island and the Bronx have fewer and more spread-out listings, showing they are less saturated markets.\n",
        "\n",
        "* There’s a clear geographic separation between neighbourhood groups, helping to identify the regional spread of inventory."
      ],
      "metadata": {
        "id": "Xx8WAJvtYrdO"
      }
    },
    {
      "cell_type": "markdown",
      "source": [
        "##### 3. Will the gained insights help creating a positive business impact?\n",
        "Are there any insights that lead to negative growth? Justify with specific reason."
      ],
      "metadata": {
        "id": "y-Ehk30pYrdP"
      }
    },
    {
      "cell_type": "markdown",
      "source": [
        "**<u>Positive Business Impact:</u>**\n",
        "\n",
        "* Yes, this visualization can guide:\n",
        "\n",
        "* Strategic placement of new listings in under-served or high-demand areas.\n",
        "\n",
        "* Targeted marketing and promotions based on regional density.\n",
        "\n",
        "* Urban planning and zoning analysis to avoid oversaturation or to encourage expansion into underutilized areas (e.g., Staten Island).\n",
        "\n",
        "**<u>Potential Negative Growth Insight:</u>**\n",
        "\n",
        "* The overconcentration in Manhattan and Brooklyn could lead to market saturation, driving price competition and possibly lower profit margins.\n",
        "\n",
        "* Underutilization in the Bronx or Staten Island may mean missed opportunities if those regions have untapped demand.\n",
        "\n",
        "**Justification:** A skewed distribution may lead to resource imbalance—too much focus on saturated areas and not enough on emerging zones could restrict long-term growth.\n",
        "\n"
      ],
      "metadata": {
        "id": "jLNxxz7MYrdP"
      }
    },
    {
      "cell_type": "markdown",
      "source": [
        "#### Chart - 5"
      ],
      "metadata": {
        "id": "bamQiAODYuh1"
      }
    },
    {
      "cell_type": "code",
      "source": [
        "# Chart - 5 visualization code\n",
        "plt.figure(figsize=(5,3))\n",
        "sns.histplot(df['availability_365'], bins=30, kde=True, color='teal')\n",
        "\n",
        "plt.title('Availability Distribution of Listings (0–365 days)')\n",
        "plt.xlabel('Number of Available Days per Year')\n",
        "plt.ylabel('Number of Listings')\n",
        "plt.grid(True)\n",
        "plt.tight_layout()\n",
        "plt.show()"
      ],
      "metadata": {
        "id": "TIJwrbroYuh3"
      },
      "execution_count": null,
      "outputs": []
    },
    {
      "cell_type": "markdown",
      "source": [
        "##### 1. Why did you pick the specific chart?"
      ],
      "metadata": {
        "id": "QHF8YVU7Yuh3"
      }
    },
    {
      "cell_type": "markdown",
      "source": [
        "A **histogram** was chosen because it’s the most effective way to show the distribution of a continuous variable—in this case, the number of available days per year for listings. It reveals how listings are spread across different availability ranges and helps identify patterns like peaks or gaps in the dataset. The added KDE (Kernel Density Estimate) curve gives insight into the distribution's shape and density.\n",
        "\n"
      ],
      "metadata": {
        "id": "dcxuIMRPYuh3"
      }
    },
    {
      "cell_type": "markdown",
      "source": [
        "##### 2. What is/are the insight(s) found from the chart?"
      ],
      "metadata": {
        "id": "GwzvFGzlYuh3"
      }
    },
    {
      "cell_type": "markdown",
      "source": [
        "Key insights:\n",
        "\n",
        "* A large number of listings are available for very few days (0–50 days), indicating many hosts use Airbnb occasionally or seasonally.\n",
        "\n",
        "* There's also a small spike at 365 days, meaning some listings are available year-round—likely professional or full-time rentals.\n",
        "\n",
        "* Availability between 100–300 days is much less common, suggesting a gap between occasional and full-time listings.\n",
        "\n",
        "This distribution is highly skewed, with most listings concentrated at the lower availability range."
      ],
      "metadata": {
        "id": "uyqkiB8YYuh3"
      }
    },
    {
      "cell_type": "markdown",
      "source": [
        "##### 3. Will the gained insights help creating a positive business impact?\n",
        "Are there any insights that lead to negative growth? Justify with specific reason."
      ],
      "metadata": {
        "id": "qYpmQ266Yuh3"
      }
    },
    {
      "cell_type": "markdown",
      "source": [
        "**<u>Positive Business Impact:</u>**\n",
        "\n",
        "* Yes, these insights are valuable for:\n",
        "\n",
        "* Segmenting the host base (e.g., part-time vs. full-time hosts), allowing for customized outreach, support, and tools.\n",
        "\n",
        "* Predicting booking volume and availability trends more accurately.\n",
        "\n",
        "* Encouraging high-performing occasional hosts to increase availability, potentially improving supply.\n",
        "\n",
        "**<u>Potential Negative Growth Insight:</u>**\n",
        "\n",
        "* The high number of low-availability listings could limit booking opportunities for guests, especially during peak seasons. This reduces overall platform reliability and satisfaction.\n",
        "\n",
        "* Listings with very few available days may lead to lower revenue and underutilized potential, which could affect long-term platform growth.\n",
        "\n",
        "**Justification:** If most listings are not available consistently, it undermines Airbnb's ability to meet demand—especially in high-traffic periods—leading to lost revenue and potentially dissatisfied users.\n",
        "\n"
      ],
      "metadata": {
        "id": "_WtzZ_hCYuh4"
      }
    },
    {
      "cell_type": "markdown",
      "source": [
        "#### Chart - 6"
      ],
      "metadata": {
        "id": "OH-pJp9IphqM"
      }
    },
    {
      "cell_type": "code",
      "source": [
        "# Chart - 6 visualization code\n",
        "#Reviews per month over time\n",
        "\n",
        "df = df[df['last_review'].notnull()]\n",
        "\n",
        "\n",
        "df['last_review'] = pd.to_datetime(df['last_review'], errors='coerce')\n",
        "\n",
        "df['month_year'] = df['last_review'].dt.to_period('M')\n",
        "\n",
        "\n",
        "monthly_reviews = df['month_year'].value_counts().sort_index()\n",
        "\n",
        "monthly_reviews.index = monthly_reviews.index.to_timestamp()\n",
        "\n",
        "plt.figure(figsize=(9,4))\n",
        "sns.lineplot(x=monthly_reviews.index, y=monthly_reviews.values, marker='o', color='purple')\n",
        "\n",
        "plt.title('Reviews Per Month Over Time')\n",
        "plt.xlabel('Year')\n",
        "plt.ylabel('Number of Reviews')\n",
        "plt.xticks(rotation=45)\n",
        "plt.grid(True)\n",
        "plt.tight_layout()\n",
        "plt.show()\n"
      ],
      "metadata": {
        "id": "kuRf4wtuphqN"
      },
      "execution_count": null,
      "outputs": []
    },
    {
      "cell_type": "markdown",
      "source": [
        "##### 1. Why did you pick the specific chart?"
      ],
      "metadata": {
        "id": "bbFf2-_FphqN"
      }
    },
    {
      "cell_type": "markdown",
      "source": [
        "A **line plot** with a time series is the best choice for visualizing trends over time. This chart allows for the detection of growth patterns, fluctuations, and sudden spikes or drops in review activity. Tracking reviews per month is a strong proxy for user engagement and platform adoption over the years.\n",
        "\n"
      ],
      "metadata": {
        "id": "loh7H2nzphqN"
      }
    },
    {
      "cell_type": "markdown",
      "source": [
        "##### 2. What is/are the insight(s) found from the chart?"
      ],
      "metadata": {
        "id": "_ouA3fa0phqN"
      }
    },
    {
      "cell_type": "markdown",
      "source": [
        "Key insights:\n",
        "\n",
        "* There is a steady increase in review volume from 2011 to around 2017.\n",
        "\n",
        "* From 2018 onward, there is a sharp spike in monthly reviews, indicating a surge in platform usage.\n",
        "\n",
        "* The peak occurs around early/mid-2019, with more than 12,000 reviews in a single month.\n",
        "\n",
        "* A sudden drop right after the peak might indicate data truncation or a temporary event (like a system cutoff or external disruption).\n",
        "\n",
        "Overall, it demonstrates rapid growth and market penetration in recent years."
      ],
      "metadata": {
        "id": "VECbqPI7phqN"
      }
    },
    {
      "cell_type": "markdown",
      "source": [
        "##### 3. Will the gained insights help creating a positive business impact?\n",
        "Are there any insights that lead to negative growth? Justify with specific reason."
      ],
      "metadata": {
        "id": "Seke61FWphqN"
      }
    },
    {
      "cell_type": "markdown",
      "source": [
        "**<u>Positive Business Impact:</u>**\n",
        "\n",
        "* Yes, the insights highlight:\n",
        "\n",
        "* Strong user engagement growth, which is critical for investor confidence and strategic scaling.\n",
        "\n",
        "* The ability to forecast demand based on historical growth trends.\n",
        "\n",
        "* A signal to invest in infrastructure, marketing, and listing support to handle growing volume.\n",
        "\n",
        "**<u>Potential Negative Growth Insight:</u>**\n",
        "\n",
        "* The sharp decline after the 2019 peak raises questions. If not due to data collection limitations, it could signal an external event (like a policy change or market issue) that hurt user engagement.\n",
        "\n",
        "* Without proper context or intervention, this drop may affect forecasting and trust in consistent growth.\n",
        "\n",
        "**Justification:** Rapid spikes followed by declines can indicate unsustainable growth or anomaly-driven peaks, which, if unaddressed, may result in volatility and instability.\n",
        "\n"
      ],
      "metadata": {
        "id": "DW4_bGpfphqN"
      }
    },
    {
      "cell_type": "markdown",
      "source": [
        "#### Chart - 7"
      ],
      "metadata": {
        "id": "PIIx-8_IphqN"
      }
    },
    {
      "cell_type": "code",
      "source": [
        "# Chart - 7 visualization code\n",
        "import matplotlib.pyplot as plt\n",
        "\n",
        "# Reuse the same data\n",
        "top_hotels = df.groupby('name')['reviews_per_month'].mean()\n",
        "top10 = top_hotels.sort_values(ascending=False).head(10)\n",
        "\n",
        "# Sort values for better visual order\n",
        "top10 = top10.sort_values()\n",
        "\n",
        "# Plot\n",
        "plt.figure(figsize=(10, 6))\n",
        "\n",
        "# Plot the sticks\n",
        "plt.hlines(y=top10.index, xmin=0, xmax=top10.values, color='skyblue')\n",
        "\n",
        "# Plot the circles (lollipops)\n",
        "plt.plot(top10.values, top10.index, 'o', color='teal')\n",
        "\n",
        "# Labels and titles\n",
        "plt.title('Top 10 Hotel Names by Average Reviews per Month (Lollipop Plot)')\n",
        "plt.xlabel('Average Reviews per Month')\n",
        "plt.ylabel('Hotel Name')\n",
        "plt.grid(True, axis='x', linestyle='--', alpha=0.5)\n",
        "plt.tight_layout()\n",
        "plt.show()\n"
      ],
      "metadata": {
        "id": "lqAIGUfyphqO"
      },
      "execution_count": null,
      "outputs": []
    },
    {
      "cell_type": "markdown",
      "source": [
        "##### 1. Why did you pick the specific chart?"
      ],
      "metadata": {
        "id": "t27r6nlMphqO"
      }
    },
    {
      "cell_type": "markdown",
      "source": [
        "A **lollipop plot** was chosen because it is a cleaner and more visually appealing alternative to a standard bar chart. It allows for easy comparison of discrete items—in this case, hotel names—based on their average reviews per month. The combination of vertical lines and points helps quickly highlight performance differences among the top listings while keeping the chart uncluttered."
      ],
      "metadata": {
        "id": "iv6ro40sphqO"
      }
    },
    {
      "cell_type": "markdown",
      "source": [
        "##### 2. What is/are the insight(s) found from the chart?"
      ],
      "metadata": {
        "id": "r2jJGEOYphqO"
      }
    },
    {
      "cell_type": "markdown",
      "source": [
        "Key insights:\n",
        "\n",
        "* The listing titled \"Enjoy great views of the City in our Deluxe Room!\" stands out significantly, with nearly 60 reviews per month, far exceeding the rest.\n",
        "\n",
        "* Other top listings cluster between 15 to 30 reviews per month, indicating strong but more typical performance.\n",
        "\n",
        "* Most top-performing listings are located near JFK Airport, suggesting that proximity to transportation hubs boosts engagement.\n",
        "\n",
        "* Descriptive and benefit-driven titles (e.g., mentioning views, Times Square, or “NO CLEANING FEE”) may correlate with higher review rates."
      ],
      "metadata": {
        "id": "Po6ZPi4hphqO"
      }
    },
    {
      "cell_type": "markdown",
      "source": [
        "##### 3. Will the gained insights help creating a positive business impact?\n",
        "Are there any insights that lead to negative growth? Justify with specific reason."
      ],
      "metadata": {
        "id": "b0JNsNcRphqO"
      }
    },
    {
      "cell_type": "markdown",
      "source": [
        "**<u>Positive Business Impact:</u>**\n",
        "\n",
        "* Yes, these insights can be leveraged to:\n",
        "\n",
        "* Analyze what makes high-performing listings successful, such as naming strategies, location, and amenities.\n",
        "\n",
        "* Guide new hosts to improve listing titles and services for better engagement.\n",
        "\n",
        "* Feature top listings in promotions or use them as benchmarks for onboarding and training.\n",
        "\n",
        "**<u>Potential Negative Growth Insight:</u>**\n",
        "\n",
        "* If over-reliance on a few high-performing listings occurs, it may limit growth opportunities for others or create unfair platform visibility.\n",
        "\n",
        "* A lack of diversity among high performers (e.g., mostly airport-related) might indicate a need to diversify high-engagement zones.\n",
        "\n",
        "**Justification:** Overconcentration in specific themes or areas might lead to neglect of other potentially profitable regions or experiences, stalling broader platform growth.\n",
        "\n"
      ],
      "metadata": {
        "id": "xvSq8iUTphqO"
      }
    },
    {
      "cell_type": "markdown",
      "source": [
        "#### Chart - 8"
      ],
      "metadata": {
        "id": "BZR9WyysphqO"
      }
    },
    {
      "cell_type": "code",
      "source": [
        "# Chart - 8 visualization code\n",
        "import pandas as pd\n",
        "import matplotlib.pyplot as plt\n",
        "\n",
        "# Step 1: Group by host_name\n",
        "host_stats = df.groupby('host_name').agg(\n",
        "    num_listings=('id', 'count'),\n",
        "    total_reviews=('number_of_reviews', 'sum')\n",
        ").reset_index()\n",
        "\n",
        "# Step 2: Calculate reviews per listing\n",
        "host_stats['reviews_per_listing'] = host_stats['total_reviews'] / host_stats['num_listings']\n",
        "\n",
        "# Step 3: Filter to hosts with multiple listings (e.g., 5 or more)\n",
        "high_listing_hosts = host_stats[host_stats['num_listings'] >= 5]\n",
        "\n",
        "# Step 4: Sort by lowest reviews per listing\n",
        "low_review_hosts = high_listing_hosts.sort_values(by='reviews_per_listing').head(10)\n",
        "\n",
        "# Step 5: Plot\n",
        "plt.figure(figsize=(10, 5))\n",
        "bar_width = 0.4\n",
        "x = range(len(low_review_hosts))\n",
        "\n",
        "# Bar chart: listings and total reviews\n",
        "plt.bar(x, low_review_hosts['num_listings'], width=bar_width, label='Number of Listings', color='blue')\n",
        "plt.bar([i + bar_width for i in x], low_review_hosts['total_reviews'], width=bar_width, label='Total Reviews', color='orange')\n",
        "\n",
        "# Labels\n",
        "plt.xticks([i + bar_width / 2 for i in x], low_review_hosts['host_name'], rotation=45, ha='right')\n",
        "plt.xlabel('Host Name')\n",
        "plt.ylabel('Count')\n",
        "plt.title('Top 10 Hosts with High Listings but Low Reviews per Listing')\n",
        "plt.legend()\n",
        "plt.tight_layout()\n",
        "plt.show()\n",
        "\n"
      ],
      "metadata": {
        "id": "TdPTWpAVphqO"
      },
      "execution_count": null,
      "outputs": []
    },
    {
      "cell_type": "markdown",
      "source": [
        "##### 1. Why did you pick the specific chart?"
      ],
      "metadata": {
        "id": "jj7wYXLtphqO"
      }
    },
    {
      "cell_type": "markdown",
      "source": [
        "A **grouped bar** chart is perfect for comparing two related metrics—number of listings and total reviews—across multiple hosts. This format clearly highlights disparities between quantity and engagement, helping to identify hosts who are scaling listings without receiving proportionate user feedback.\n",
        "\n"
      ],
      "metadata": {
        "id": "Ob8u6rCTphqO"
      }
    },
    {
      "cell_type": "markdown",
      "source": [
        "##### 2. What is/are the insight(s) found from the chart?"
      ],
      "metadata": {
        "id": "eZrbJ2SmphqO"
      }
    },
    {
      "cell_type": "markdown",
      "source": [
        "Key insights:\n",
        "\n",
        "* Hosts like Kenny, Sonder, and Blueground have many listings, but low total reviews in comparison, leading to a very low average number of reviews per listing.\n",
        "\n",
        "* These hosts likely operate at scale, but engagement per property is poor—suggesting potential quality, visibility, or user satisfaction issues.\n",
        "\n",
        "* The imbalance indicates these hosts may be struggling to generate traction or maintain guest experience despite having a high presence.\n",
        "\n"
      ],
      "metadata": {
        "id": "mZtgC_hjphqO"
      }
    },
    {
      "cell_type": "markdown",
      "source": [
        "##### 3. Will the gained insights help creating a positive business impact?\n",
        "Are there any insights that lead to negative growth? Justify with specific reason."
      ],
      "metadata": {
        "id": "rFu4xreNphqO"
      }
    },
    {
      "cell_type": "markdown",
      "source": [
        "**<u>Positive Business Impact:</u>**\n",
        "\n",
        "* Yes, these insights are valuable because they:\n",
        "\n",
        "* Help identify underperforming high-volume hosts, allowing for intervention (e.g., quality reviews, customer support, or listing optimization).\n",
        "\n",
        "* Support the improvement of guest satisfaction by focusing on hosts whose properties may be abundant but lack engagement.\n",
        "\n",
        "* Allow the platform to set benchmarks or offer personalized host guidance to improve overall performance.\n",
        "\n",
        "**<u>Potential Negative Growth Insight:</u>**\n",
        "\n",
        "* These high-volume but low-engagement hosts could dilute platform quality, resulting in poor guest experiences, lower repeat rates, and negative reviews.\n",
        "\n",
        "* Over-prioritizing listing quantity over guest experience can hurt brand reputation and trust, especially if these hosts dominate search results.\n",
        "\n",
        "**Justification:** Hosts who prioritize scale without maintaining listing quality or guest interaction may create a false sense of supply and drag down platform-wide metrics such as review scores or occupancy rates."
      ],
      "metadata": {
        "id": "ey_0qi68phqO"
      }
    },
    {
      "cell_type": "markdown",
      "source": [
        "#### Chart - 9"
      ],
      "metadata": {
        "id": "YJ55k-q6phqO"
      }
    },
    {
      "cell_type": "code",
      "source": [
        "# Chart - 9 visualization code\n",
        "import matplotlib.pyplot as plt\n",
        "\n",
        "# Count the number of listings in each review rate category\n",
        "review_counts = df['review_rate_indicator'].value_counts().reindex(\n",
        "    ['Highly Active', 'Moderately Active', 'Low Activity', 'Inactive'], fill_value=0\n",
        ")\n",
        "\n",
        "# Plotting\n",
        "plt.figure(figsize=(8, 5))\n",
        "review_counts.plot(kind='bar', color='teal', edgecolor='black')\n",
        "\n",
        "# Labels\n",
        "plt.title('Review Rate Indicator Distribution')\n",
        "plt.xlabel('Review Activity Level')\n",
        "plt.ylabel('Number of Listings')\n",
        "plt.xticks(rotation=0)\n",
        "plt.tight_layout()\n",
        "plt.show()\n"
      ],
      "metadata": {
        "id": "B2aS4O1ophqO"
      },
      "execution_count": null,
      "outputs": []
    },
    {
      "cell_type": "markdown",
      "source": [
        "##### 1. Why did you pick the specific chart?"
      ],
      "metadata": {
        "id": "gCFgpxoyphqP"
      }
    },
    {
      "cell_type": "markdown",
      "source": [
        "A **bar chart** is the most appropriate way to visualize categorical data, such as review activity levels. This chart was chosen to clearly compare the number of listings that fall under each activity category—Highly Active, Moderately Active, Low Activity, and Inactive. It offers a simple and effective way to assess engagement distribution across listings.\n",
        "\n"
      ],
      "metadata": {
        "id": "TVxDimi2phqP"
      }
    },
    {
      "cell_type": "markdown",
      "source": [
        "##### 2. What is/are the insight(s) found from the chart?"
      ],
      "metadata": {
        "id": "OVtJsKN_phqQ"
      }
    },
    {
      "cell_type": "markdown",
      "source": [
        "Key insights:\n",
        "\n",
        "* A majority of listings are categorized under Low Activity, indicating they receive few or infrequent reviews.\n",
        "\n",
        "* Only a small portion of listings are Highly Active, showing a much smaller group of high-performing or frequently reviewed listings.\n",
        "\n",
        "* The Inactive category has almost no presence, which is positive—suggesting most listings are at least occasionally engaged with.\n",
        "\n",
        "* The Moderately Active listings are fewer than Low Activity but still represent a decent mid-tier group.\n",
        "\n",
        "This suggests an imbalance: lots of supply but relatively low user engagement per listing.\n",
        "\n"
      ],
      "metadata": {
        "id": "ngGi97qjphqQ"
      }
    },
    {
      "cell_type": "markdown",
      "source": [
        "##### 3. Will the gained insights help creating a positive business impact?\n",
        "Are there any insights that lead to negative growth? Justify with specific reason."
      ],
      "metadata": {
        "id": "lssrdh5qphqQ"
      }
    },
    {
      "cell_type": "markdown",
      "source": [
        "**<u>Positive Business Impact:</u>**\n",
        "\n",
        "* Yes, these insights can help in the following ways:\n",
        "\n",
        "* Targeted host support: Hosts in the Low Activity segment can be educated or incentivized to improve their listings (e.g., photos, pricing, communication).\n",
        "\n",
        "* Platform optimization: Helps Airbnb identify which listings are performing well vs. those needing visibility or quality improvements.\n",
        "\n",
        "* Marketing focus: Promotions can be designed to boost underperforming listings into the \"Moderately\" or \"Highly Active\" categories.\n",
        "\n",
        "**<u>Potential Negative Growth Insight:</u>**\n",
        "\n",
        "* A large number of low-activity listings might indicate poor guest experience, listing quality, or discoverability issues.\n",
        "\n",
        "* If unaddressed, this could lead to guest dissatisfaction, fewer bookings, and ultimately churn—especially if users frequently encounter inactive or low-value listings.\n",
        "\n",
        "**Justification:** While supply is high, low engagement suggests inefficient utilization, reducing platform value. Improving listing activity is critical to maintaining healthy marketplace dynamics.\n",
        "\n"
      ],
      "metadata": {
        "id": "tBpY5ekJphqQ"
      }
    },
    {
      "cell_type": "markdown",
      "source": [
        "#### Chart - 10"
      ],
      "metadata": {
        "id": "U2RJ9gkRphqQ"
      }
    },
    {
      "cell_type": "code",
      "source": [
        "# Chart - 10 visualization code\n",
        "sns.scatterplot(data=df[df['minimum_nights'] < 60], x='minimum_nights', y='price', alpha=0.5)\n",
        "plt.title('Minimum Nights vs Price')"
      ],
      "metadata": {
        "id": "GM7a4YP4phqQ"
      },
      "execution_count": null,
      "outputs": []
    },
    {
      "cell_type": "markdown",
      "source": [
        "##### 1. Why did you pick the specific chart?"
      ],
      "metadata": {
        "id": "1M8mcRywphqQ"
      }
    },
    {
      "cell_type": "markdown",
      "source": [
        "A **scatter plot** is ideal for identifying relationships between two continuous numerical variables—in this case, minimum nights and price. This visualization makes it easy to spot outliers, trends, and concentrations in booking behavior and pricing strategies. It was chosen to understand if pricing is influenced by required minimum stay durations.\n",
        "\n"
      ],
      "metadata": {
        "id": "8agQvks0phqQ"
      }
    },
    {
      "cell_type": "markdown",
      "source": [
        "##### 2. What is/are the insight(s) found from the chart?"
      ],
      "metadata": {
        "id": "tgIPom80phqQ"
      }
    },
    {
      "cell_type": "markdown",
      "source": [
        "Key insights:\n",
        "\n",
        "* Most listings cluster between 1–10 minimum nights and are priced under $1,000.\n",
        "\n",
        "* There are noticeable outliers where listings with low minimum nights have extremely high prices, possibly indicating premium/luxury or incorrectly entered data.\n",
        "\n",
        "* Listings with minimum nights > 30 tend to have lower prices, suggesting discounted long-term stays or compliance with rental laws (e.g., 30-day minimums in some cities).\n",
        "\n",
        "* The lack of a strong linear trend suggests that price is not directly proportional to minimum nights—they're influenced by other factors like location, amenities, or listing type."
      ],
      "metadata": {
        "id": "Qp13pnNzphqQ"
      }
    },
    {
      "cell_type": "markdown",
      "source": [
        "##### 3. Will the gained insights help creating a positive business impact?\n",
        "Are there any insights that lead to negative growth? Justify with specific reason."
      ],
      "metadata": {
        "id": "JMzcOPDDphqR"
      }
    },
    {
      "cell_type": "markdown",
      "source": [
        "**<u>Positive Business Impact:</u>**\n",
        "\n",
        "* Yes, these insights are actionable:\n",
        "\n",
        "* Helps detect data quality issues like abnormal pricing (e.g., $10,000+ for 1 night), enabling platform moderation or automatic outlier filtering.\n",
        "\n",
        "* Encourages dynamic pricing strategies based on length of stay, enabling better yield management.\n",
        "\n",
        "* Useful for policy compliance (e.g., monthly rentals) and for identifying market segments (e.g., short-term vs. long-term stays).\n",
        "\n",
        "**<u>Potential Negative Growth Insight:</u>**\n",
        "\n",
        "* Overpricing short-stay listings could deter bookings and harm customer satisfaction.\n",
        "\n",
        "* A large number of listings with high minimum nights but low engagement could suggest underutilized inventory, leading to revenue loss.\n",
        "\n",
        "**Justification:** Understanding and optimizing the balance between minimum stay requirements and pricing is crucial to drive higher occupancy, better conversion, and guest satisfaction.\n",
        "\n"
      ],
      "metadata": {
        "id": "R4Ka1PC2phqR"
      }
    },
    {
      "cell_type": "markdown",
      "source": [
        "#### Chart - 11"
      ],
      "metadata": {
        "id": "x-EpHcCOp1ci"
      }
    },
    {
      "cell_type": "code",
      "source": [
        "# Chart - 11 visualization code\n",
        "import pandas as pd\n",
        "import matplotlib.pyplot as plt\n",
        "\n",
        "# Step 1: Calculate price per night\n",
        "df['price_per_night'] = df['price'] / df['minimum_nights']\n",
        "\n",
        "# Step 2: Bin price per night\n",
        "bins = [0, 50, 100, 200, 500]\n",
        "labels = ['0-50', '51-100', '101-200', '201-500']\n",
        "df['price_range'] = pd.cut(df['price_per_night'], bins=bins, labels=labels)\n",
        "\n",
        "# Step 3: Filter out outliers\n",
        "filtered_df = df[df['price_range'].notnull() & (df['reviews_per_month'] < 15)]\n",
        "\n",
        "# Step 4: Group and aggregate\n",
        "grouped = filtered_df.groupby(['price_range', 'room_type'])['reviews_per_month'].mean().unstack(fill_value=0)\n",
        "\n",
        "# Step 5: Plot stacked bar\n",
        "grouped.plot(kind='bar', stacked=True, figsize=(10, 6), colormap='Set2', edgecolor='black')\n",
        "\n",
        "# Styling\n",
        "plt.title('Avg Reviews per Month by Room Type and Price Range')\n",
        "plt.xlabel('Price per Night Range')\n",
        "plt.ylabel('Avg Reviews per Month')\n",
        "plt.legend(title='Room Type')\n",
        "plt.grid(True, axis='y', linestyle='--', alpha=0.7)\n",
        "plt.tight_layout()\n",
        "plt.show()\n",
        "\n"
      ],
      "metadata": {
        "id": "mAQTIvtqp1cj"
      },
      "execution_count": null,
      "outputs": []
    },
    {
      "cell_type": "markdown",
      "source": [
        "##### 1. Why did you pick the specific chart?"
      ],
      "metadata": {
        "id": "X_VqEhTip1ck"
      }
    },
    {
      "cell_type": "markdown",
      "source": [
        "This **stacked bar chart** was chosen because it allows comparison across multiple dimensions:\n",
        "\n",
        "* Room type (Entire home/apt, Private room, Shared room)\n",
        "\n",
        "* Price range per night (binned into 4 categories)\n",
        "\n",
        "It visualizes how engagement (reviews per month) varies based on both price and room type, giving a comprehensive view in a single plot."
      ],
      "metadata": {
        "id": "-vsMzt_np1ck"
      }
    },
    {
      "cell_type": "markdown",
      "source": [
        "##### 2. What is/are the insight(s) found from the chart?"
      ],
      "metadata": {
        "id": "8zGJKyg5p1ck"
      }
    },
    {
      "cell_type": "markdown",
      "source": [
        "Key insights:\n",
        "\n",
        "* Listings in the 101–200 price range receive the highest average reviews per month, suggesting it's a sweet spot in terms of value and popularity.\n",
        "\n",
        "* Entire home/apartment listings consistently get more reviews across all price ranges, highlighting user preference for privacy and autonomy.\n",
        "\n",
        "* Shared rooms have the lowest engagement across price tiers, reinforcing earlier findings of lower popularity.\n",
        "\n",
        "* The lowest (<50) and highest (>200) price ranges see lower engagement, indicating reduced demand or niche usage."
      ],
      "metadata": {
        "id": "ZYdMsrqVp1ck"
      }
    },
    {
      "cell_type": "markdown",
      "source": [
        "##### 3. Will the gained insights help creating a positive business impact?\n",
        "Are there any insights that lead to negative growth? Justify with specific reason."
      ],
      "metadata": {
        "id": "PVzmfK_Ep1ck"
      }
    },
    {
      "cell_type": "markdown",
      "source": [
        "**<u>Positive Business Impact:</u>**\n",
        "\n",
        "* Yes, the insights are highly actionable:\n",
        "\n",
        "* Hosts can optimize pricing by targeting the $101–200 range to maximize exposure and bookings.\n",
        "\n",
        "* Platforms can prioritize entire home/apt listings in search rankings or marketing for higher user satisfaction and engagement.\n",
        "\n",
        "* This helps identify high-performing listing types and pricing combinations, improving conversion rates.\n",
        "\n",
        "**<u>Negative Growth Insight:</u>**\n",
        "\n",
        "* Shared rooms, even at low price points, show poor engagement, indicating a low ROI for hosts and possibly dissatisfaction from guests.\n",
        "\n",
        "* Listings priced above $200 may require added value (luxury amenities, unique features) to justify low engagement.\n",
        "\n",
        "**Justification:**\n",
        "Not acting on these insights could lead to overpricing, underutilized listings, or promoting low-performing categories—ultimately harming business growth and user trust.\n",
        "\n"
      ],
      "metadata": {
        "id": "druuKYZpp1ck"
      }
    },
    {
      "cell_type": "markdown",
      "source": [
        "#### Chart - 12"
      ],
      "metadata": {
        "id": "n3dbpmDWp1ck"
      }
    },
    {
      "cell_type": "code",
      "source": [
        "# Chart - 12 visualization code\n",
        "min_nights_trend = df[df['month_year'].notnull()].groupby('month_year')['minimum_nights'].mean()\n",
        "\n",
        "min_nights_trend.plot(kind='line', figsize=(12, 6), color='darkgreen', marker='d')\n",
        "plt.title('Average Minimum Nights Over Time')\n",
        "plt.xlabel('Month-Year')\n",
        "plt.ylabel('Minimum Nights')\n",
        "plt.grid(True)\n",
        "plt.tight_layout()\n",
        "plt.show()\n",
        "\n",
        "\n"
      ],
      "metadata": {
        "id": "bwevp1tKp1ck"
      },
      "execution_count": null,
      "outputs": []
    },
    {
      "cell_type": "markdown",
      "source": [
        "##### 1. Why did you pick the specific chart?"
      ],
      "metadata": {
        "id": "ylSl6qgtp1ck"
      }
    },
    {
      "cell_type": "markdown",
      "source": [
        "This **line chart** was selected because it best visualizes temporal trends in the data. It clearly shows how the average minimum_nights required by hosts changed over time (monthly), making it ideal for identifying spikes, drops, and unusual behavior patterns in listings.\n",
        "\n"
      ],
      "metadata": {
        "id": "m2xqNkiQp1ck"
      }
    },
    {
      "cell_type": "markdown",
      "source": [
        "##### 2. What is/are the insight(s) found from the chart?"
      ],
      "metadata": {
        "id": "ZWILFDl5p1ck"
      }
    },
    {
      "cell_type": "markdown",
      "source": [
        "Key insights:\n",
        "\n",
        "* There is a major spike in the average minimum nights around a specific time period (exceeding 180 days).\n",
        "This is likely caused by a small number of outliers with extremely high minimum stay requirements.\n",
        "\n",
        "* Outside the spike, most of the values fluctuate between 5 and 15 nights, which seems to be the typical trend.\n",
        "\n",
        "* The trend appears inconsistent early on, but stabilizes in the more recent months."
      ],
      "metadata": {
        "id": "x-lUsV2mp1ck"
      }
    },
    {
      "cell_type": "markdown",
      "source": [
        "##### 3. Will the gained insights help creating a positive business impact?\n",
        "Are there any insights that lead to negative growth? Justify with specific reason."
      ],
      "metadata": {
        "id": "M7G43BXep1ck"
      }
    },
    {
      "cell_type": "markdown",
      "source": [
        "**<u>Positive Business Impact:</u>**\n",
        "\n",
        "* Yes,The insights help identify outliers or data anomalies, which may skew analytics or pricing models.\n",
        "\n",
        "* Platforms can warn or advise hosts against unusually long minimum stay requirements that may reduce booking rates.\n",
        "\n",
        "* It provides historical evidence to support policy tuning, such as recommending optimal minimum night ranges to maximize engagement.\n",
        "\n",
        "**<u>Negative Growth Risk:</u>**\n",
        "\n",
        "* Listings with unusually high minimum_nights (e.g., >100 days) are likely unbooked and uncompetitive, leading to wasted listing space.\n",
        "\n",
        "* If not addressed, it may mislead market analysis or hurt guest experience, especially if such listings appear in search results.\n",
        "\n",
        "**Justification:**\n",
        "Monitoring and reacting to this metric over time can improve listing quality, host behavior, and platform trust—thus directly impacting conversion and retention positively.\n",
        "\n"
      ],
      "metadata": {
        "id": "5wwDJXsLp1cl"
      }
    },
    {
      "cell_type": "markdown",
      "source": [
        "#### Chart - 13"
      ],
      "metadata": {
        "id": "Ag9LCva-p1cl"
      }
    },
    {
      "cell_type": "code",
      "source": [
        "# Chart - 13 visualization code\n",
        "import seaborn as sns\n",
        "import matplotlib.pyplot as plt\n",
        "\n",
        "plt.figure(figsize=(10, 6))\n",
        "sns.boxplot(\n",
        "    data=df,\n",
        "    x='review_rate_indicator',\n",
        "    y='availability_365',\n",
        "    palette='Set2'\n",
        ")\n",
        "\n",
        "plt.title('Box Plot of Availability by Review Rate Indicator')\n",
        "plt.xlabel('Review Activity Level')\n",
        "plt.ylabel('Availability (Days per Year)')\n",
        "plt.grid(True, axis='y', linestyle='--', alpha=0.5)\n",
        "plt.tight_layout()\n",
        "plt.show()\n",
        "\n"
      ],
      "metadata": {
        "id": "EUfxeq9-p1cl"
      },
      "execution_count": null,
      "outputs": []
    },
    {
      "cell_type": "markdown",
      "source": [
        "##### 1. Why did you pick the specific chart?"
      ],
      "metadata": {
        "id": "E6MkPsBcp1cl"
      }
    },
    {
      "cell_type": "markdown",
      "source": [
        "A **box plot** is ideal for comparing distribution characteristics (like median, IQR, and outliers) across categories—in this case, availability across different review activity levels (Low Activity, Highly Active, Moderately Active).\n",
        "\n",
        "It highlights not just average values, but also variability, spread, and presence of extreme values, which a bar chart or mean-based plot would miss.\n",
        "\n"
      ],
      "metadata": {
        "id": "V22bRsFWp1cl"
      }
    },
    {
      "cell_type": "markdown",
      "source": [
        "##### 2. What is/are the insight(s) found from the chart?"
      ],
      "metadata": {
        "id": "2cELzS2fp1cl"
      }
    },
    {
      "cell_type": "markdown",
      "source": [
        "Key observations:\n",
        "\n",
        "* Highly Active listings generally have higher availability and tighter spread (Q1 to Q3), suggesting consistent hosting.\n",
        "\n",
        "* Low Activity listings show the widest range and highest variation, including many with nearly zero availability.\n",
        "\n",
        "* Moderately Active listings fall somewhere in between, with a slightly wider spread than Highly Active ones.\n",
        "\n",
        "* Outliers are present in all three categories—many listings with availability over 300 days."
      ],
      "metadata": {
        "id": "ozQPc2_Ip1cl"
      }
    },
    {
      "cell_type": "markdown",
      "source": [
        "##### 3. Will the gained insights help creating a positive business impact?\n",
        "Are there any insights that lead to negative growth? Justify with specific reason."
      ],
      "metadata": {
        "id": "3MPXvC8up1cl"
      }
    },
    {
      "cell_type": "markdown",
      "source": [
        "**<u>Positive Business Impact:</u>**\n",
        "\n",
        "* Yes,Helps platforms identify host commitment levels—those consistently available and receiving reviews.\n",
        "\n",
        "* Useful for targeting or incentivizing moderately active or inconsistent hosts to improve availability and engagement.\n",
        "\n",
        "* Indicates potential for listing quality improvement by encouraging more consistent availability for those with high review potential.\n",
        "\n",
        "**<u>Risk of Negative Impact:</u>**\n",
        "\n",
        "* Yes, if ignored:\n",
        "\n",
        "* Listings with low activity and high availability may not be generating bookings—indicating either poor visibility or guest experience issues.\n",
        "\n",
        "* Over-reliance on highly active listings could reduce diversity in options and create demand concentration, hurting long-tail hosts.\n",
        "\n",
        "**Justification:**\n",
        "This plot enables strategic platform decisions—such as better listing recommendations, review prompting, or availability-based quality rankings.\n",
        "\n"
      ],
      "metadata": {
        "id": "GL8l1tdLp1cl"
      }
    },
    {
      "cell_type": "markdown",
      "source": [
        "#### Chart - 14 - Correlation Heatmap"
      ],
      "metadata": {
        "id": "NC_X3p0fY2L0"
      }
    },
    {
      "cell_type": "code",
      "source": [
        "# Correlation Heatmap visualization code\n",
        "import seaborn as sns\n",
        "import matplotlib.pyplot as plt\n",
        "\n",
        "# Exclude independent and non-numeric columns\n",
        "exclude_cols = [\n",
        "    'id', 'name', 'host_id', 'host_name',\n",
        "    'neighbourhood_group', 'neighbourhood',\n",
        "    'room_type', 'last_review', 'review_month',\n",
        "    'month_year', 'review_rate_indicator'\n",
        "]\n",
        "\n",
        "# Select only dependent numeric columns\n",
        "numeric_cols = df.drop(columns=exclude_cols, errors='ignore').select_dtypes(include='number')\n",
        "\n",
        "# Compute correlation\n",
        "correlation_matrix = numeric_cols.corr()\n",
        "\n",
        "# Plot heatmap\n",
        "plt.figure(figsize=(10, 6))\n",
        "sns.heatmap(correlation_matrix, annot=True, cmap='coolwarm', linewidths=0.5)\n",
        "plt.title('Correlation Heatmap (Dependent Numeric Features Only)')\n",
        "plt.tight_layout()\n",
        "plt.show()\n"
      ],
      "metadata": {
        "id": "xyC9zolEZNRQ"
      },
      "execution_count": null,
      "outputs": []
    },
    {
      "cell_type": "markdown",
      "source": [
        "##### 1. Why did you pick the specific chart?"
      ],
      "metadata": {
        "id": "UV0SzAkaZNRQ"
      }
    },
    {
      "cell_type": "markdown",
      "source": [
        "The **correlation heatmap** is essential for exploring how numeric variables are related to each other. It helps:\n",
        "\n",
        "* Identify multicollinearity (important for modeling).\n",
        "\n",
        "* Reveal strong relationships worth deeper analysis.\n",
        "\n",
        "* Visualize pairwise trends in a compact, intuitive format.\n",
        "\n"
      ],
      "metadata": {
        "id": "DVPuT8LYZNRQ"
      }
    },
    {
      "cell_type": "markdown",
      "source": [
        "##### 2. What is/are the insight(s) found from the chart?"
      ],
      "metadata": {
        "id": "YPEH6qLeZNRQ"
      }
    },
    {
      "cell_type": "markdown",
      "source": [
        "Key insights from the heatmap:\n",
        "\n",
        "1. Strong positive correlation between:\n",
        "\n",
        "* price and price_per_night_ratio (0.66)\n",
        "\n",
        "* price and price_per_night (0.66)\n",
        "\n",
        "* reviews_per_month and number_of_reviews (0.55) – expected, since both measure review activity.\n",
        "\n",
        "2. Slight negative correlation between:\n",
        "\n",
        "* minimum_nights and reviews_per_month (–0.15): Listings with longer minimum stays tend to get fewer monthly reviews.\n",
        "\n",
        "3. Weak or negligible correlation between geographical coordinates and other numeric features.\n",
        "\n",
        "4. availability_365 shows only slight positive relationships with other features like price and reviews.\n",
        "\n"
      ],
      "metadata": {
        "id": "bfSqtnDqZNRR"
      }
    },
    {
      "cell_type": "markdown",
      "source": [
        "#### Chart - 15 - Pair Plot"
      ],
      "metadata": {
        "id": "q29F0dvdveiT"
      }
    },
    {
      "cell_type": "code",
      "source": [
        "# Pair Plot visualization code\n",
        "# Import necessary libraries\n",
        "import pandas as pd\n",
        "import seaborn as sns\n",
        "import matplotlib.pyplot as plt\n",
        "\n",
        "# Load your dataset\n",
        "# Example: df = pd.read_csv('your_airbnb_data.csv')\n",
        "# Make sure your DataFrame is already loaded as 'df'\n",
        "\n",
        "# Optional: Set a clean style\n",
        "sns.set(style='whitegrid', palette='muted')\n",
        "\n",
        "# Select the relevant numerical columns for multivariate analysis\n",
        "selected_cols = ['price', 'number_of_reviews', 'availability_365', 'reviews_per_month']\n",
        "\n",
        "# Create the pairplot\n",
        "sns.pairplot(df[selected_cols])\n",
        "\n",
        "# Add a title to the plot\n",
        "plt.suptitle('Multivariate Analysis: Price vs Reviews and Availability', y=1.02)\n",
        "\n",
        "# Display the plot\n",
        "plt.show()\n",
        "\n"
      ],
      "metadata": {
        "id": "o58-TEIhveiU"
      },
      "execution_count": null,
      "outputs": []
    },
    {
      "cell_type": "markdown",
      "source": [
        "##### 1. Why did you pick the specific chart?"
      ],
      "metadata": {
        "id": "EXh0U9oCveiU"
      }
    },
    {
      "cell_type": "markdown",
      "source": [
        "The **pair plot** was selected to:\n",
        "\n",
        "* Visualize relationships between multiple numeric variables (price, number_of_reviews, availability_365, and reviews_per_month) simultaneously.\n",
        "\n",
        "* Quickly identify patterns, clusters, and outliers.\n",
        "\n",
        "* Explore potential linear or nonlinear correlations between variables.\n",
        "\n",
        "* Spot skewed distributions and any potential anomalies before modeling.\n",
        "\n",
        "* It's ideal for getting an overall sense of the data’s structure across multiple dimensions in one compact view."
      ],
      "metadata": {
        "id": "eMmPjTByveiU"
      }
    },
    {
      "cell_type": "markdown",
      "source": [
        "##### 2. What is/are the insight(s) found from the chart?"
      ],
      "metadata": {
        "id": "22aHeOlLveiV"
      }
    },
    {
      "cell_type": "markdown",
      "source": [
        "Key insights observed:\n",
        "\n",
        "1. Price has a right-skewed distribution with several extreme outliers.\n",
        "\n",
        "2. There is no strong linear relationship between price and:\n",
        "\n",
        "* number_of_reviews\n",
        "\n",
        "* availability_365\n",
        "\n",
        "* reviews_per_month\n",
        "\n",
        "3. number_of_reviews vs reviews_per_month shows a moderate positive trend—listings with more reviews tend to receive them more frequently.\n",
        "\n",
        "4. Availability (availability_365) is spread across the full 0–365 range without a strong visible relation to the number of reviews or pricing.\n",
        "\n",
        "5. Dense vertical lines (e.g., at 365 availability) indicate common default values or cutoff thresholds in data.\n",
        "\n"
      ],
      "metadata": {
        "id": "uPQ8RGwHveiV"
      }
    },
    {
      "cell_type": "markdown",
      "source": [
        "## **5. Solution to Business Objective**"
      ],
      "metadata": {
        "id": "JcMwzZxoAimU"
      }
    },
    {
      "cell_type": "markdown",
      "source": [
        "#### What do you suggest the client to achieve Business Objective ?\n",
        "Explain Briefly."
      ],
      "metadata": {
        "id": "8G2x9gOozGDZ"
      }
    },
    {
      "cell_type": "markdown",
      "source": [
        "**✅ <u>Business Objective Recommendation:</u>**\n",
        "\n",
        "* **Boost Review Activity-**Listings with more reviews are more trusted and get more bookings. Encourage guests to leave reviews after their stay.\n",
        "\n",
        "* **Optimize Availability-**Many listings are either rarely or always available. Focus on making listings available during high-demand periods to maximize revenue.\n",
        "\n",
        "* **Smart Pricing + Minimum Nights-**Listings priced moderately with 1–3 night minimums tend to perform better. Avoid overly high prices or long minimum stays.\n",
        "\n",
        "* **Promote Best-Performing Listings-**Highlight listings that are “Highly Active” (frequent bookings and reviews) in marketing campaigns or search results.\n",
        "\n",
        "* **Monitor Multi-Listing Hosts-**Some hosts have many listings but low engagement. Ensure quality and guest experience isn't compromised for quantity.\n",
        "\n",
        "* **Promote High-Performing Listings-**Listings with high reviews, consistent availability, and competitive pricing should be prioritized in search results.\n",
        "\n",
        "* **Use Data Trends for Forecasting-**Time-based trends in reviews and minimum nights can help predict demand surges or market changes.Use these trends to plan promotions, onboarding waves, or platform updates.\n",
        "\n",
        "* **Build with Data-Driven Strategy-**Use correlation and pair plots to guide modeling, recommendations, and platform changes.Focus on variables that truly impact bookings (reviews, availability, room type) rather than noise (e.g., minimum nights alone).\n",
        "\n"
      ],
      "metadata": {
        "id": "pASKb0qOza21"
      }
    },
    {
      "cell_type": "markdown",
      "source": [
        "# **Conclusion**"
      ],
      "metadata": {
        "id": "gCX9965dhzqZ"
      }
    },
    {
      "cell_type": "markdown",
      "source": [
        "\n",
        "\n",
        "✅ <u>**Conclusion:**</u>\n",
        "\n",
        "This project provided a comprehensive analysis of Airbnb listings using visual exploration of key metrics such as availability, reviews, pricing, room types, host behavior, and listing performance. By leveraging 15 unique charts, we identified critical patterns and insights that directly impact business outcomes.\n",
        "\n",
        "Key takeaways include:\n",
        "\n",
        "* **Listings with frequent reviews and moderate pricing perform best.**\n",
        "* **High availability does not guarantee high engagement**—strategic calendar management is essential.\n",
        "* **Entire homes** are preferred over shared spaces, especially in mid-range price segments.\n",
        "* Some hosts operate at scale but **underperform in guest engagement**, signaling a need for quality control.\n",
        "* **Review activity and availability** strongly influence booking potential and guest trust.\n",
        "\n",
        "By applying these insights, Airbnb can optimize platform performance by:\n",
        "\n",
        "* Supporting high-quality hosts,\n",
        "* Promoting active and well-reviewed listings,\n",
        "* Implementing smarter pricing and availability tools,\n",
        "* And improving overall guest satisfaction.\n",
        "\n",
        "Ultimately, data-driven decisions will empower Airbnb to enhance user experience, increase bookings, and drive sustainable revenue growth.\n"
      ],
      "metadata": {
        "id": "Fjb1IsQkh3yE"
      }
    },
    {
      "cell_type": "markdown",
      "source": [
        "### ***Hurrah! You have successfully completed your EDA Capstone Project !!!***"
      ],
      "metadata": {
        "id": "gIfDvo9L0UH2"
      }
    }
  ]
}